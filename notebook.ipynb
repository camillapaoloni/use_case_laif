{
 "cells": [
  {
   "cell_type": "code",
   "execution_count": 1,
   "id": "b7f6da59",
   "metadata": {},
   "outputs": [],
   "source": [
    "import sqlite3"
   ]
  },
  {
   "cell_type": "code",
   "execution_count": 2,
   "id": "d35f2f30",
   "metadata": {},
   "outputs": [],
   "source": [
    "def get_db(): #per interagire con il database\n",
    "    conn = sqlite3.connect('db/database.db') #connessione al database SQLite chiamato database.db dentro la cartella db\n",
    "    conn.row_factory = sqlite3.Row #per restituire i risultati delle query come dizionari invece che come tuple\n",
    "    return conn "
   ]
  },
  {
   "cell_type": "code",
   "execution_count": 3,
   "id": "36f4d562",
   "metadata": {},
   "outputs": [],
   "source": [
    "db= get_db()"
   ]
  },
  {
   "cell_type": "code",
   "execution_count": 11,
   "id": "2725f31b",
   "metadata": {},
   "outputs": [],
   "source": [
    "for row in db.execute(\"SELECT * FROM species WHERE species='Lupus'\").fetchall():\n",
    "    print(dict(row))\n"
   ]
  },
  {
   "cell_type": "code",
   "execution_count": 12,
   "id": "ccf572ec",
   "metadata": {},
   "outputs": [
    {
     "name": "stdout",
     "output_type": "stream",
     "text": [
      "{'species_id': 1, 'domain': 'Eukaryota', 'kingdom': 'Animalia', 'phylum': 'Chordata', 'class': 'Mammalia', 'order_name': 'Carnivora', 'family': 'Canidae', 'genus': 'Canis', 'species': 'lupus', 'subspecies': 'italicus', 'scientific_name': 'Canis lupus italicus', 'common_name': 'Lupo appenninico', 'author': 'Altobello', 'year_described': 1921, 'conservation_status': 'Least Concern', 'distribution': 'Italia centrale e meridionale', 'notes': 'Sottospecie endemica italiana del lupo grigio.', 'created_at': '2025-10-16 13:36:01'}\n",
      "{'species_id': 13, 'domain': 'Eukaryota', 'kingdom': 'Animalia', 'phylum': 'Chordata', 'class': 'Mammalia', 'order_name': 'Carnivora', 'family': 'Canidae', 'genus': 'Canis', 'species': 'lupus', 'subspecies': 'familiaris', 'scientific_name': 'Canis lupus familiaris', 'common_name': 'Cane', 'author': '', 'year_described': '', 'conservation_status': 'LC', 'distribution': '', 'notes': '', 'created_at': '2025-10-22 14:45:11'}\n"
     ]
    }
   ],
   "source": [
    "for row in db.execute(\"SELECT * FROM species WHERE species='lupus'\").fetchall():\n",
    "    print(dict(row))"
   ]
  },
  {
   "cell_type": "code",
   "execution_count": 9,
   "id": "129ca0c3",
   "metadata": {},
   "outputs": [
    {
     "name": "stdout",
     "output_type": "stream",
     "text": [
      "{'species_id': 11, 'domain': 'Eukaryota', 'kingdom': 'Animalia', 'phylum': 'Chordata', 'class': 'Mammalia', 'order_name': 'Artiodactyla', 'family': 'Suidae', 'genus': 'Sus', 'species': 'scrofa', 'subspecies': 'domesticus', 'scientific_name': 'Sus scrofa domesticus', 'common_name': 'Maiale', 'author': '', 'year_described': '', 'conservation_status': '', 'distribution': '', 'notes': '', 'created_at': '2025-10-21 12:55:43'}\n"
     ]
    }
   ],
   "source": [
    "for row in db.execute(\"SELECT * FROM species WHERE species='scrofa'\").fetchall():\n",
    "    print(dict(row))"
   ]
  },
  {
   "cell_type": "code",
   "execution_count": 6,
   "id": "b269fabf",
   "metadata": {},
   "outputs": [],
   "source": [
    "db.execute(\"\"\"\n",
    "    UPDATE species\n",
    "    SET species = ?, subspecies = ?\n",
    "    WHERE species = ?\n",
    "\"\"\", ('scrofa', 'domesticus', 'Sus scrofa'))\n",
    "\n",
    "db.commit()\n"
   ]
  },
  {
   "cell_type": "code",
   "execution_count": 10,
   "id": "0d692a5f",
   "metadata": {},
   "outputs": [],
   "source": [
    "db.execute(\"\"\"\n",
    "    UPDATE species\n",
    "    SET species = ?\n",
    "    WHERE species = ?\n",
    "\"\"\", ('lupus',  'Lupus'))\n",
    "\n",
    "db.commit()\n"
   ]
  }
 ],
 "metadata": {
  "kernelspec": {
   "display_name": "venv (3.11.7)",
   "language": "python",
   "name": "python3"
  },
  "language_info": {
   "codemirror_mode": {
    "name": "ipython",
    "version": 3
   },
   "file_extension": ".py",
   "mimetype": "text/x-python",
   "name": "python",
   "nbconvert_exporter": "python",
   "pygments_lexer": "ipython3",
   "version": "3.11.7"
  }
 },
 "nbformat": 4,
 "nbformat_minor": 5
}
